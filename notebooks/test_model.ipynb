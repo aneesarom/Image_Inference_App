{
 "cells": [
  {
   "cell_type": "code",
   "execution_count": 1,
   "id": "6ac4e903",
   "metadata": {},
   "outputs": [],
   "source": [
    "import torch\n",
    "import torchvision"
   ]
  },
  {
   "cell_type": "code",
   "execution_count": 2,
   "id": "36c0b2b6",
   "metadata": {},
   "outputs": [],
   "source": [
    "import torch\n",
    "from torch import nn\n",
    "from torchvision import models\n",
    "\n",
    "model_weights = models.ViT_B_16_Weights.IMAGENET1K_V1\n",
    "inference_model = models.vit_b_16(weights=model_weights)"
   ]
  },
  {
   "cell_type": "code",
   "execution_count": 3,
   "id": "d679b971",
   "metadata": {},
   "outputs": [
    {
     "data": {
      "text/plain": [
       "224"
      ]
     },
     "execution_count": 3,
     "metadata": {},
     "output_type": "execute_result"
    }
   ],
   "source": [
    "inference_model.image_size"
   ]
  },
  {
   "cell_type": "code",
   "execution_count": null,
   "id": "68ab69c9",
   "metadata": {},
   "outputs": [],
   "source": []
  }
 ],
 "metadata": {
  "kernelspec": {
   "display_name": "torchandtransformer",
   "language": "python",
   "name": "python3"
  },
  "language_info": {
   "codemirror_mode": {
    "name": "ipython",
    "version": 3
   },
   "file_extension": ".py",
   "mimetype": "text/x-python",
   "name": "python",
   "nbconvert_exporter": "python",
   "pygments_lexer": "ipython3",
   "version": "3.8.16"
  }
 },
 "nbformat": 4,
 "nbformat_minor": 5
}
